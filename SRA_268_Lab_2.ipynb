{
  "nbformat": 4,
  "nbformat_minor": 0,
  "metadata": {
    "colab": {
      "name": "SRA 268- Lab 2",
      "provenance": [],
      "authorship_tag": "ABX9TyPrPE5LHOBzIJvjDcRwbzuB",
      "include_colab_link": true
    },
    "kernelspec": {
      "name": "python3",
      "display_name": "Python 3"
    }
  },
  "cells": [
    {
      "cell_type": "markdown",
      "metadata": {
        "id": "view-in-github",
        "colab_type": "text"
      },
      "source": [
        "<a href=\"https://colab.research.google.com/github/mjs7402/SRA268/blob/master/SRA_268_Lab_2.ipynb\" target=\"_parent\"><img src=\"https://colab.research.google.com/assets/colab-badge.svg\" alt=\"Open In Colab\"/></a>"
      ]
    },
    {
      "cell_type": "markdown",
      "metadata": {
        "id": "_mxRWgsUj7xN",
        "colab_type": "text"
      },
      "source": [
        "## Lab 2 - Type of Graphs "
      ]
    },
    {
      "cell_type": "markdown",
      "metadata": {
        "id": "0zZdVLAd5CYr",
        "colab_type": "text"
      },
      "source": [
        "Creator\n",
        "* Matthew Solomone"
      ]
    },
    {
      "cell_type": "markdown",
      "metadata": {
        "id": "Quxvru0OY5wi",
        "colab_type": "text"
      },
      "source": [
        "### Deviation"
      ]
    },
    {
      "cell_type": "markdown",
      "metadata": {
        "id": "2gorxo6E7A0t",
        "colab_type": "text"
      },
      "source": [
        "![alt text](https://raw.githubusercontent.com/mjs7402/SRA268/master/images/Deviation%20Graph%20Lab%202.png) "
      ]
    },
    {
      "cell_type": "markdown",
      "metadata": {
        "id": "95L-spaC7QHF",
        "colab_type": "text"
      },
      "source": [
        "For the deviation graph I decided on using a horizontal bar graph. The reason behind my thinking is that its a good way to show how many points the winning team has scored. I decided to cut the teams down to the first 15 alpahabetically so that it is easier to read the graph. I also wanted to make it easier for the person reading the graph to be able to compare who the best teams are and who the not so best are. I think a Hoizontal bar chart was the best way to show deviation."
      ]
    },
    {
      "cell_type": "markdown",
      "metadata": {
        "id": "pI91mvE2kxN7",
        "colab_type": "text"
      },
      "source": [
        "## Correlation"
      ]
    },
    {
      "cell_type": "markdown",
      "metadata": {
        "id": "SGx15rZq7hvt",
        "colab_type": "text"
      },
      "source": [
        "![alt text](https://raw.githubusercontent.com/mjs7402/SRA268/master/images/correlation%20Graph-%20Lab%202.png)"
      ]
    },
    {
      "cell_type": "markdown",
      "metadata": {
        "id": "PwZEZrFB7laG",
        "colab_type": "text"
      },
      "source": [
        "For correlation I decided to use the standard scatter plot. It is easy to tell whether the correlation is postive or negitive. The variables I chose for this graph were to use winning team points and the count of winning points. You can see there is a positive correlation between the two which is what I expected. I think a scatter plot is one of the easiet graphs to read and that is why I went with it to show correlation."
      ]
    },
    {
      "cell_type": "markdown",
      "metadata": {
        "id": "g6_i3D9wk_D8",
        "colab_type": "text"
      },
      "source": [
        "## Ranking"
      ]
    },
    {
      "cell_type": "markdown",
      "metadata": {
        "id": "AvlxCOVt7x9F",
        "colab_type": "text"
      },
      "source": [
        "![alt text](https://raw.githubusercontent.com/mjs7402/SRA268/master/images/Ranking%20Graph-%20Lab%202.png)"
      ]
    },
    {
      "cell_type": "markdown",
      "metadata": {
        "id": "MyuciD277ygU",
        "colab_type": "text"
      },
      "source": [
        "For ranking I decided on using a bubble graph. I decided again like deviation to use team names and win points. You can see that different size bubbles is a different amount of win points for each team. The larger the bubbles the more win points and the smaller the bubble the less. I thought this would be the most effective way to display the rankings from most to least team points."
      ]
    },
    {
      "cell_type": "markdown",
      "metadata": {
        "id": "0jNLFPc6lG8B",
        "colab_type": "text"
      },
      "source": [
        "## Distrubution"
      ]
    },
    {
      "cell_type": "markdown",
      "metadata": {
        "id": "FB0uV-jy76p9",
        "colab_type": "text"
      },
      "source": [
        "![alt text](https://raw.githubusercontent.com/mjs7402/SRA268/master/Distrubution%20Graph-%20Lab%202.png)"
      ]
    },
    {
      "cell_type": "markdown",
      "metadata": {
        "id": "HBWqsS_g767h",
        "colab_type": "text"
      },
      "source": [
        "For distrubution I went with a basic histrogram. You can see here that we have a normal distrubution and again I decided on using the win points for each team to compare the distrubution. Using a histrogram is a simple and easy way to read distrubutions and that is why I chose to use it to display distrubutions."
      ]
    },
    {
      "cell_type": "markdown",
      "metadata": {
        "id": "IoUlcvWUlR4t",
        "colab_type": "text"
      },
      "source": [
        "## Change Over Time"
      ]
    },
    {
      "cell_type": "markdown",
      "metadata": {
        "id": "Z1j_YLOA7_OK",
        "colab_type": "text"
      },
      "source": [
        "![alt text](https://raw.githubusercontent.com/mjs7402/SRA268/master/images/Change%20over%20Time%20Graph-%20Lab%202.png)"
      ]
    },
    {
      "cell_type": "markdown",
      "metadata": {
        "id": "rYLXoMMO7_di",
        "colab_type": "text"
      },
      "source": [
        "For my changes over time graph I decided on using a line graph. This to me was th easiest way to compare the variables I wanted to display which were win points and how they have changed over the years as displayed by the X axis year of game date. You can see the change has remained pretty steady over the years and that is what I wanted to document. I think the line graph is easy to read and very useful for these 2 variables."
      ]
    },
    {
      "cell_type": "markdown",
      "metadata": {
        "id": "n7XOrnNqlf_9",
        "colab_type": "text"
      },
      "source": [
        "## Magnitude"
      ]
    },
    {
      "cell_type": "markdown",
      "metadata": {
        "id": "ICQFnXj78EbF",
        "colab_type": "text"
      },
      "source": [
        "![alt text](https://raw.githubusercontent.com/mjs7402/SRA268/master/images/Magnitude%20Graph-%20Lab%202.png)"
      ]
    },
    {
      "cell_type": "markdown",
      "metadata": {
        "id": "VS7uGa0l8Eos",
        "colab_type": "text"
      },
      "source": [
        "For magnitude I went with a bullet graph. I compared win points again with team name. You cabn easily read the magnitude of win points for each team and the bullet graph does a nice job of helping the reader to understand better. This is a little different and easier to read then the horizontal bar graph I used earlier because with the bullet graph I was able to compare more teams."
      ]
    },
    {
      "cell_type": "markdown",
      "metadata": {
        "id": "KKpjmvg0lm92",
        "colab_type": "text"
      },
      "source": [
        "## Part to Whole"
      ]
    },
    {
      "cell_type": "markdown",
      "metadata": {
        "id": "WFHlcYKV8E35",
        "colab_type": "text"
      },
      "source": [
        "![alt text](https://raw.githubusercontent.com/mjs7402/SRA268/master/images/Part-To-Whole%20Graph%20Lab%202.png)"
      ]
    },
    {
      "cell_type": "markdown",
      "metadata": {
        "id": "y9tb_QRA8aqt",
        "colab_type": "text"
      },
      "source": [
        "For part to whole graph I decided on a tree map. This was so I compare 2 different things to each team name. The color represents winning team seed and the size compares the win points for each team. You notice that looking at this graph that you can also infer correlation. The more win points a team has, most likely the higher seed they are as well."
      ]
    }
  ]
}