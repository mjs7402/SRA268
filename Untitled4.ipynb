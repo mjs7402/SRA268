{
  "nbformat": 4,
  "nbformat_minor": 0,
  "metadata": {
    "colab": {
      "name": "Untitled4.ipynb",
      "provenance": [],
      "authorship_tag": "ABX9TyOB8MleoZxjkcqGMvKr8QfA",
      "include_colab_link": true
    },
    "kernelspec": {
      "name": "python3",
      "display_name": "Python 3"
    }
  },
  "cells": [
    {
      "cell_type": "markdown",
      "metadata": {
        "id": "view-in-github",
        "colab_type": "text"
      },
      "source": [
        "<a href=\"https://colab.research.google.com/github/mjs7402/SRA268/blob/master/Untitled4.ipynb\" target=\"_parent\"><img src=\"https://colab.research.google.com/assets/colab-badge.svg\" alt=\"Open In Colab\"/></a>"
      ]
    },
    {
      "cell_type": "code",
      "metadata": {
        "id": "XipB1RN_Fgnc",
        "colab_type": "code",
        "colab": {
          "base_uri": "https://localhost:8080/",
          "height": 34
        },
        "outputId": "39701691-32b3-47c6-8835-6b8aa22c9105"
      },
      "source": [
        "2+2"
      ],
      "execution_count": 1,
      "outputs": [
        {
          "output_type": "execute_result",
          "data": {
            "text/plain": [
              "4"
            ]
          },
          "metadata": {
            "tags": []
          },
          "execution_count": 1
        }
      ]
    },
    {
      "cell_type": "markdown",
      "metadata": {
        "id": "wgASFN80FkiI",
        "colab_type": "text"
      },
      "source": [
        "# Abtract\n",
        "Somethings in the abstract"
      ]
    },
    {
      "cell_type": "markdown",
      "metadata": {
        "id": "nTqx5n88Fon3",
        "colab_type": "text"
      },
      "source": [
        "# Introduction"
      ]
    },
    {
      "cell_type": "markdown",
      "metadata": {
        "id": "fDHsUL5wF5Kg",
        "colab_type": "text"
      },
      "source": [
        "![link text](https://raw.githubusercontent.com/mjs7402/SRA268/master/images/Screen%20Shot%202020-01-20%20at%2012.46.53%20PM.png)"
      ]
    }
  ]
}