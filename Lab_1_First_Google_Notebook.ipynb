{
  "nbformat": 4,
  "nbformat_minor": 0,
  "metadata": {
    "colab": {
      "name": "Lab 1- First Google Notebook",
      "provenance": [],
      "collapsed_sections": [],
      "authorship_tag": "ABX9TyNBQQe45gR0AX2QHGMBlrg9",
      "include_colab_link": true
    },
    "kernelspec": {
      "name": "python3",
      "display_name": "Python 3"
    }
  },
  "cells": [
    {
      "cell_type": "markdown",
      "metadata": {
        "id": "view-in-github",
        "colab_type": "text"
      },
      "source": [
        "<a href=\"https://colab.research.google.com/github/mjs7402/SRA268/blob/master/Lab_1_First_Google_Notebook.ipynb\" target=\"_parent\"><img src=\"https://colab.research.google.com/assets/colab-badge.svg\" alt=\"Open In Colab\"/></a>"
      ]
    },
    {
      "cell_type": "markdown",
      "metadata": {
        "id": "nK36WgzVyZsD",
        "colab_type": "text"
      },
      "source": [
        "# Lab 1- First Google Notebook (High and Low Temperture of Days in March 2017)"
      ]
    },
    {
      "cell_type": "markdown",
      "metadata": {
        "id": "-sc__Xv5ym3V",
        "colab_type": "text"
      },
      "source": [
        "# Outline\n",
        "This lab displays data from State College weather in March 2017. The subset of this data comes from the data that were given of the weather from January 1st 2017 to October 9th 2019. I chose to specifically focus on the High and Low Tempertures from each day in March 2017 and in doing so I was able to create a unique sketch."
      ]
    },
    {
      "cell_type": "markdown",
      "metadata": {
        "id": "C6-nLSp52cKl",
        "colab_type": "text"
      },
      "source": [
        "# Sketch\n",
        "![Graph of High and Low Temperture from Each day in March 2017](https://raw.githubusercontent.com/mjs7402/SRA268/master/images/Screen%20Shot%202020-01-22%20at%2010.21.09%20AM.png) "
      ]
    },
    {
      "cell_type": "markdown",
      "metadata": {
        "id": "19kJhrVQ4Qan",
        "colab_type": "text"
      },
      "source": [
        "# Conclusion\n",
        "In conclusion the high and low tempertures in the month of March 2017 varies. There is no specific pattern as shown by the graph above. This sketch is unique because you can use it to compare tempertures from other months in the year to see if they follow a similar pattern. Also you can use it to compare the month of March from other years and see if it was average March or if it was unusual."
      ]
    }
  ]
}